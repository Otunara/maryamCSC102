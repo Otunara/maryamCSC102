{
 "cells": [
  {
   "cell_type": "markdown",
   "id": "03e6694a",
   "metadata": {},
   "source": [
    "# Shefiu Maryam\n",
    "\n",
    "### 21120612492\n",
    "###### maryam.shefiu@pau.edu.ng\n",
    "\n"
   ]
  },
  {
   "cell_type": "markdown",
   "id": "11f9ed32",
   "metadata": {},
   "source": [
    "## Project I\n",
    "\n",
    "###### Description: Develop the algorithm (pseudocode) and python program to get the difference between a given number and 17, if the number is greater than 17, return double the absolute difference."
   ]
  },
  {
   "cell_type": "markdown",
   "id": "180af6cd",
   "metadata": {},
   "source": [
    "![Picture1](IMAGES/Picture1.png)"
   ]
  },
  {
   "cell_type": "markdown",
   "id": "093566d1",
   "metadata": {},
   "source": [
    "## PSEUDOCODE\n",
    "#### BEGIN\n",
    "###### STORED DATA 17\n",
    "##### IF INPUT>17\n",
    "###### PRINT INPUT-17\n",
    "###### ELIF INPUT< 17\n",
    "###### PRINT abs(INPUT-17)\n",
    "#### END\n"
   ]
  },
  {
   "cell_type": "code",
   "execution_count": 11,
   "id": "32e8f625",
   "metadata": {},
   "outputs": [
    {
     "name": "stdout",
     "output_type": "stream",
     "text": [
      "Enter a number12\n",
      "5\n"
     ]
    }
   ],
   "source": [
    "import math\n",
    "num = 17\n",
    "diff = int(input(\"Enter a number\"))\n",
    "if diff>num:\n",
    "    print(diff-num)\n",
    "elif diff<num:\n",
    "    print(-1*(diff-num))\n"
   ]
  },
  {
   "cell_type": "markdown",
   "id": "7b648252",
   "metadata": {},
   "source": [
    "## Project II\n",
    "###### Description: Develop the algorithm (pseudocode) and python program to calculate the sum of three given numbers, if the values are equal then return thrice of their sum."
   ]
  },
  {
   "cell_type": "markdown",
   "id": "a87131f5",
   "metadata": {},
   "source": [
    "![Picture2](IMAGES/Picture2.png)"
   ]
  },
  {
   "cell_type": "markdown",
   "id": "a6891b8d",
   "metadata": {},
   "source": [
    "#### BEGIN\n",
    "###### INPUT 1stnum\n",
    "###### INPUT 2ndnum\n",
    "###### INPUT 3rdnum\n",
    "###### PROCESS 1stnum+2ndnum+3rdnum\n",
    "###### IF 1stnum=2ndnum=3rdnum\n",
    "###### PRINT 3*(1stnum+2ndnum+3rdnum)\n",
    "###### ELSE PRINT (1stnum+2ndnum+3rdnum)\n",
    "#### END"
   ]
  },
  {
   "cell_type": "code",
   "execution_count": 15,
   "id": "4ab9eed7",
   "metadata": {},
   "outputs": [
    {
     "name": "stdout",
     "output_type": "stream",
     "text": [
      "Enter the first number5\n",
      "Enter the second number7\n",
      "Enter the third number5\n",
      "17\n"
     ]
    }
   ],
   "source": [
    "import math\n",
    "num1 = int(input(\"Enter the first number\"))\n",
    "num2 = int(input(\"Enter the second number\"))\n",
    "num3 = int(input(\"Enter the third number\"))\n",
    "add = num1 + num2 + num3\n",
    "if num1 != num2 != num3:\n",
    "    print(add)\n",
    "else:\n",
    "    print(3*(add))"
   ]
  },
  {
   "cell_type": "markdown",
   "id": "f5e8722d",
   "metadata": {},
   "source": [
    "## Project III\n",
    "###### Description: Develop the algorithm (pseudocode) and python program which will return true if the two given integer values are equal or their sum or difference is 5. "
   ]
  },
  {
   "cell_type": "markdown",
   "id": "e689b32b",
   "metadata": {},
   "source": [
    "![Picture3](IMAGES/Picture3.png)"
   ]
  },
  {
   "cell_type": "markdown",
   "id": "948600fd",
   "metadata": {},
   "source": [
    "#### BEGIN\n",
    "###### INPUT num1\n",
    "###### INPUT num2\n",
    "###### PROCESS num1+num2\n",
    "###### PROCESS num1 - num2\n",
    "###### PROCESS num2 -num1\n",
    "###### IF num1 = num2\n",
    "###### PRINT True\n",
    "###### ELIF num1+num2 is 5\n",
    "###### PRINT True\n",
    "###### ELIF num1 - num2 is 5\n",
    "###### PRINT True\n",
    "###### ELIF num2 - num1 is 5\n",
    "###### PRINT True\n",
    "###### ELSE PRINT False\n",
    "#### END"
   ]
  },
  {
   "cell_type": "code",
   "execution_count": 6,
   "id": "876343e4",
   "metadata": {},
   "outputs": [
    {
     "name": "stdout",
     "output_type": "stream",
     "text": [
      "Enter first number5\n",
      "Enter second number5\n",
      "True\n"
     ]
    }
   ],
   "source": [
    "import math\n",
    "num1 = int(input(\"Enter first number\"))\n",
    "num2 = int(input(\"Enter second number\"))\n",
    "if num1 is num2:\n",
    "    print(\"True\")\n",
    "elif num1+num2 == 5:\n",
    "    print(\"True\")\n",
    "elif num1-num2 == 5:\n",
    "    print(\"True\")\n",
    "elif num2-num1 == 5:\n",
    "    print(\"True\")\n",
    "else:\n",
    "    print(\"False\")"
   ]
  },
  {
   "cell_type": "markdown",
   "id": "41cdcd07",
   "metadata": {},
   "source": [
    "## Project IV\n",
    "###### Description: Develop the algorithm and python program to sort three integers without using conditional statements and loops "
   ]
  },
  {
   "cell_type": "markdown",
   "id": "eac1e791",
   "metadata": {},
   "source": [
    "![Picture4](IMAGES/Picture4.png)"
   ]
  },
  {
   "cell_type": "markdown",
   "id": "a5e075f7",
   "metadata": {},
   "source": [
    "#### BEGIN\n",
    "###### INPUT the maximum number(max)\n",
    "###### INPUT the minimum number(min)\n",
    "###### INPUT the middle number(mid)\n",
    "###### COMPUTE  middle=(max+min+mid)-max-min\n",
    "###### PRINT min\n",
    "###### PRINT middle\n",
    "###### PRINT max\n",
    "#### END"
   ]
  },
  {
   "cell_type": "code",
   "execution_count": 7,
   "id": "81b2c34d",
   "metadata": {},
   "outputs": [
    {
     "name": "stdout",
     "output_type": "stream",
     "text": [
      "Enter the minimum number1\n",
      "Enter the mid number5\n",
      "Enter the maximum number10\n",
      "The minimum number is 1\n",
      "The middle number is 5\n",
      "The maximum number is 10\n"
     ]
    }
   ],
   "source": [
    "import math\n",
    "minimum = int(input(\"Enter the minimum number\"))\n",
    "mid = int(input(\"Enter the mid number\"))\n",
    "maximum = int(input(\"Enter the maximum number\"))\n",
    "middle = ((minimum+mid+maximum)-maximum-minimum)\n",
    "print(\"The minimum number is\",minimum)\n",
    "print(\"The middle number is\",middle)\n",
    "print(\"The maximum number is\",maximum)"
   ]
  },
  {
   "cell_type": "markdown",
   "id": "4017926b",
   "metadata": {},
   "source": [
    "## Project V\n",
    "###### Description: Develop the algorithm and python function that takes a positive integer and returns the sum of the cube of all the positive integers smaller than the specified number."
   ]
  },
  {
   "cell_type": "markdown",
   "id": "649603a4",
   "metadata": {},
   "source": [
    "![Picture5](IMAGES/Picture5.png)"
   ]
  },
  {
   "cell_type": "markdown",
   "id": "0a4bfb5e",
   "metadata": {},
   "source": [
    "#### BEGIN\n",
    "###### INPUT Enter a number\n",
    "###### PROCESS number! (number factorial)"
   ]
  },
  {
   "cell_type": "code",
   "execution_count": 12,
   "id": "8d6e0731",
   "metadata": {},
   "outputs": [
    {
     "name": "stdout",
     "output_type": "stream",
     "text": [
      "Enter a number6\n",
      "125\n"
     ]
    },
    {
     "ename": "TypeError",
     "evalue": "'builtin_function_or_method' object is not iterable",
     "output_type": "error",
     "traceback": [
      "\u001b[1;31m---------------------------------------------------------------------------\u001b[0m",
      "\u001b[1;31mTypeError\u001b[0m                                 Traceback (most recent call last)",
      "\u001b[1;32mC:\\Users\\MARYAM~1\\AppData\\Local\\Temp/ipykernel_13856/512062399.py\u001b[0m in \u001b[0;36m<module>\u001b[1;34m\u001b[0m\n\u001b[0;32m      7\u001b[0m     \u001b[0mprint\u001b[0m\u001b[1;33m(\u001b[0m\u001b[0mcube\u001b[0m\u001b[1;33m)\u001b[0m\u001b[1;33m\u001b[0m\u001b[1;33m\u001b[0m\u001b[0m\n\u001b[0;32m      8\u001b[0m     \u001b[0msumlist\u001b[0m\u001b[1;33m.\u001b[0m\u001b[0mappend\u001b[0m\u001b[1;33m(\u001b[0m\u001b[0mcube\u001b[0m\u001b[1;33m)\u001b[0m\u001b[1;33m\u001b[0m\u001b[1;33m\u001b[0m\u001b[0m\n\u001b[1;32m----> 9\u001b[1;33m     \u001b[0mprint\u001b[0m\u001b[1;33m(\u001b[0m\u001b[0msum\u001b[0m\u001b[1;33m(\u001b[0m\u001b[0msumlist\u001b[0m\u001b[1;33m.\u001b[0m\u001b[0mappend\u001b[0m\u001b[1;33m)\u001b[0m\u001b[1;33m)\u001b[0m\u001b[1;33m\u001b[0m\u001b[1;33m\u001b[0m\u001b[0m\n\u001b[0m",
      "\u001b[1;31mTypeError\u001b[0m: 'builtin_function_or_method' object is not iterable"
     ]
    }
   ],
   "source": [
    "import math\n",
    "sumlist = []\n",
    "n = int(input(\"Enter a number\"))\n",
    "while n > 1:\n",
    "    n -= 1\n",
    "    cube = (n**3)\n",
    "    print(cube)\n",
    "    sumlist.append(cube)\n",
    "    print(sum(sumlist.append))"
   ]
  },
  {
   "cell_type": "code",
   "execution_count": null,
   "id": "0728aadc",
   "metadata": {},
   "outputs": [],
   "source": []
  }
 ],
 "metadata": {
  "kernelspec": {
   "display_name": "Python 3 (ipykernel)",
   "language": "python",
   "name": "python3"
  },
  "language_info": {
   "codemirror_mode": {
    "name": "ipython",
    "version": 3
   },
   "file_extension": ".py",
   "mimetype": "text/x-python",
   "name": "python",
   "nbconvert_exporter": "python",
   "pygments_lexer": "ipython3",
   "version": "3.9.7"
  }
 },
 "nbformat": 4,
 "nbformat_minor": 5
}
