{
 "cells": [
  {
   "cell_type": "markdown",
   "id": "8eea98a3",
   "metadata": {},
   "source": [
    "# GUIDED PROGECTS"
   ]
  },
  {
   "cell_type": "code",
   "execution_count": 13,
   "id": "3b70a505",
   "metadata": {},
   "outputs": [],
   "source": [
    "def avoids(words,letter):\n",
    "    word = input(\"Enter a word\")"
   ]
  },
  {
   "cell_type": "code",
   "execution_count": null,
   "id": "c2b0b427",
   "metadata": {},
   "outputs": [],
   "source": [
    "def uses_all():\n",
    "    "
   ]
  },
  {
   "cell_type": "code",
   "execution_count": 14,
   "id": "f35fe6d1",
   "metadata": {},
   "outputs": [
    {
     "name": "stdout",
     "output_type": "stream",
     "text": [
      "Player2 wins\n"
     ]
    }
   ],
   "source": [
    "import random\n",
    "player1 = random.randint(0,9)\n",
    "player2 = random.randint(0,9)\n",
    "sum = player1 + player2\n",
    "if sum%2 == 0:\n",
    "    print(\"Player1 wins\")\n",
    "else:\n",
    "    print(\"Player2 wins\")"
   ]
  },
  {
   "cell_type": "code",
   "execution_count": null,
   "id": "b19136ed",
   "metadata": {
    "scrolled": true
   },
   "outputs": [],
   "source": [
    "def vroom(distance,time):\n",
    "    return distance/time\n",
    "vroom(50,2)   "
   ]
  },
  {
   "cell_type": "code",
   "execution_count": null,
   "id": "5c268cf4",
   "metadata": {},
   "outputs": [],
   "source": []
  }
 ],
 "metadata": {
  "kernelspec": {
   "display_name": "Python 3 (ipykernel)",
   "language": "python",
   "name": "python3"
  },
  "language_info": {
   "codemirror_mode": {
    "name": "ipython",
    "version": 3
   },
   "file_extension": ".py",
   "mimetype": "text/x-python",
   "name": "python",
   "nbconvert_exporter": "python",
   "pygments_lexer": "ipython3",
   "version": "3.9.7"
  }
 },
 "nbformat": 4,
 "nbformat_minor": 5
}
