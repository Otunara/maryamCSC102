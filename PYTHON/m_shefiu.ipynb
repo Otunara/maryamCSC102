{
 "cells": [
  {
   "cell_type": "markdown",
   "id": "d8f6a6a1",
   "metadata": {},
   "source": [
    "**NAME:** *SHEFIU MARYAM*\n",
    "\n",
    "\n",
    "**MATRIC NUMBER:** *21120612492*"
   ]
  },
  {
   "cell_type": "markdown",
   "id": "6fc70aea",
   "metadata": {},
   "source": [
    "### QUESTION 1"
   ]
  },
  {
   "cell_type": "code",
   "execution_count": 41,
   "id": "66b189a7",
   "metadata": {},
   "outputs": [
    {
     "name": "stdout",
     "output_type": "stream",
     "text": [
      "Welcome to PAU Cafeteria, African Food Special Edition\n",
      "Menu: {'Poundo Yam/Edinkaiko Soup': 5500, 'Fried Rice & Chicken': 6000, 'Amala & Ewedu Soup': 4500, 'Eba & Egusi Soup': 4000, 'White Rice & Stew': 4500}\n",
      "What is your name?Maryam\n",
      "What would you like to order?Fried Rice & Chicken\n",
      "The price is 6000\n",
      "How many packs are you buying3\n",
      "You are to pay 12375.0\n"
     ]
    }
   ],
   "source": [
    "import math\n",
    "def food():\n",
    "    print(\"Welcome to PAU Cafeteria, African Food Special Edition\")\n",
    "    menu = {\"Poundo Yam/Edinkaiko Soup\":5500,\"Fried Rice & Chicken\":6000,\"Amala & Ewedu Soup\":4500,\"Eba & Egusi Soup\":4000,\"White Rice & Stew\":4500}\n",
    "    print(\"Menu:\",menu)\n",
    "    name = input(\"What is your name?\")\n",
    "    if name != \"no name\":\n",
    "        order = input(\"What would you like to order?\")\n",
    "        if order == \"Poundo Yam/Edinkaiko Soup\":\n",
    "            print(\"The price is\", menu[\"Poundo Yam/Edinkaiko Soup\"])\n",
    "            quantity = int(input(\"How many packs are you buying\"))\n",
    "            price = quantity * 5500\n",
    "            if price < 10000:\n",
    "                pay = price-(price * (10/100))\n",
    "            elif price < 15000:\n",
    "                pay = price-(price * (15/100))\n",
    "            elif price > 15000:\n",
    "                pay = price-(price * (25/100))\n",
    "            print(\"You are to pay\", pay)\n",
    "        elif order == \"Fried Rice & Chicken\":\n",
    "            print(\"The price is\", menu[\"Fried Rice & Chicken\"])\n",
    "            quantity = int(input(\"How many packs are you buying\"))\n",
    "            price = quantity * 5500\n",
    "            if price < 10000:\n",
    "                pay = price-(price * (10/100))\n",
    "            elif price < 15000:\n",
    "                pay = price-(price * (15/100))\n",
    "            elif price > 15000:\n",
    "                pay = price-(price * (25/100))\n",
    "            print(\"You are to pay\", pay)   \n",
    "        elif order == \"Amala & Ewedu Soup\":\n",
    "            print(\"The price is\", menu[\"Amala & Ewedu Soup\"])\n",
    "            quantity = int(input(\"How many packs are you buying\"))\n",
    "            price = quantity * 5500\n",
    "            if price < 10000:\n",
    "                pay = price-(price * (10/100))\n",
    "            elif price < 15000:\n",
    "                pay = price-(price * (15/100))\n",
    "            elif price > 15000:\n",
    "                pay = price-(price * (25/100))\n",
    "            print(\"You are to pay\", pay) \n",
    "        elif order == \"Eba & Egusi Soup\":\n",
    "            print(\"The price is\", menu[\"Eba & Egusi Soup\"])\n",
    "            quantity = int(input(\"How many packs are you buying\"))\n",
    "            price = quantity * 5500\n",
    "            if price < 10000:\n",
    "                pay = price-(price * (10/100))\n",
    "            elif price < 15000:\n",
    "                pay = price-(price * (15/100))\n",
    "            elif price > 15000:\n",
    "                pay = price-(price * (25/100))\n",
    "            print(\"You are to pay\", pay) \n",
    "        elif order == \"White Rice & Stew\":\n",
    "            print(\"The price is\", menu[\"White Rice & Stew\"])\n",
    "            quantity = int(input(\"How many packs are you buying\"))\n",
    "            price = quantity * 5500\n",
    "            if price < 10000:\n",
    "                pay = price-(price * (10/100))\n",
    "            elif price < 15000:\n",
    "                pay = price-(price * (15/100))\n",
    "            elif price > 15000:\n",
    "                pay = price-(price * (25/100))\n",
    "            print(\"You are to pay\", pay)\n",
    "        else:\n",
    "            print(\"Sorry, we do not have that on the menu\")\n",
    "            print(\"Thank you\")\n",
    "    return;\n",
    "food()"
   ]
  },
  {
   "cell_type": "markdown",
   "id": "efd6faa8",
   "metadata": {},
   "source": [
    "### QUESTION 2"
   ]
  },
  {
   "cell_type": "code",
   "execution_count": 39,
   "id": "3c1d86db",
   "metadata": {},
   "outputs": [
    {
     "name": "stdout",
     "output_type": "stream",
     "text": [
      "What is your name?Coins Fagbemi\n",
      "What did you score63.3\n",
      "You have four points\n",
      "Your reward is 42.199999999999996\n"
     ]
    }
   ],
   "source": [
    "import math\n",
    "Employees_Names = [\"Alegbe Louis\",\"Anna Mabuta\",\"Karim Kafi\",\"Esther Moses\",\"Jonah Longe\",\"Coins Fagbemi\"]\n",
    "Years = [\"5\",\"10\",\"15\",\"8\",\"4\",\"20\"]\n",
    "Assessment_Records = [\"44.5\",\"67.4\",\"23.8\",\"71.1\",\"50.3\",\"63.3\"]\n",
    "name = input(\"What is your name?\")\n",
    "if name in Employees_Names:\n",
    "    assessment = float(input(\"What did you score\"))\n",
    "    if assessment < 40:\n",
    "        point = 1\n",
    "        print(\"You have one point\")\n",
    "    elif 39 < assessment < 50:\n",
    "        point = 2\n",
    "        print(\"You have two points\")\n",
    "    elif 49 < assessment < 60:\n",
    "        point = 3\n",
    "        print(\"You have three points\")\n",
    "    elif 59 < assessment < 70:\n",
    "        point = 4\n",
    "        print(\"You have four points\")\n",
    "    elif assessment > 69:\n",
    "        point = 5\n",
    "        print(\"You have five points\")\n",
    "    reward = (assessment * point)/6\n",
    "    print(\"Your reward is\", reward)"
   ]
  },
  {
   "cell_type": "code",
   "execution_count": null,
   "id": "3c7935c6",
   "metadata": {},
   "outputs": [],
   "source": []
  }
 ],
 "metadata": {
  "kernelspec": {
   "display_name": "Python 3 (ipykernel)",
   "language": "python",
   "name": "python3"
  },
  "language_info": {
   "codemirror_mode": {
    "name": "ipython",
    "version": 3
   },
   "file_extension": ".py",
   "mimetype": "text/x-python",
   "name": "python",
   "nbconvert_exporter": "python",
   "pygments_lexer": "ipython3",
   "version": "3.9.7"
  }
 },
 "nbformat": 4,
 "nbformat_minor": 5
}
