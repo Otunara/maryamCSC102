{
 "cells": [
  {
   "cell_type": "markdown",
   "id": "20c02af4",
   "metadata": {},
   "source": [
    "# Exercise I"
   ]
  },
  {
   "cell_type": "code",
   "execution_count": 3,
   "id": "1cde74b3",
   "metadata": {},
   "outputs": [
    {
     "name": "stdout",
     "output_type": "stream",
     "text": [
      "Enter a number to generate its pattern =10\n",
      "1 \n",
      "1 2 \n",
      "1 2 3 \n",
      "1 2 3 4 \n",
      "1 2 3 4 5 \n",
      "1 2 3 4 5 6 \n",
      "1 2 3 4 5 6 7 \n",
      "1 2 3 4 5 6 7 8 \n",
      "1 2 3 4 5 6 7 8 9 \n",
      "1 2 3 4 5 6 7 8 9 10 \n"
     ]
    }
   ],
   "source": [
    "#The output pattern to be generated is\n",
    "#1\n",
    "#1 2\n",
    "#1 2 3\n",
    "#1 2 3 4\n",
    "#1 2 3 4 5\n",
    "num = int(input(\"Enter a number to generate its pattern =\"))\n",
    "for i in range(1,num + 1):\n",
    "    for j in range(1,i + 1):\n",
    "        print(j, end = \" \")\n",
    "    print()"
   ]
  },
  {
   "cell_type": "markdown",
   "id": "9100c636",
   "metadata": {},
   "source": [
    "# Exercise II"
   ]
  },
  {
   "cell_type": "code",
   "execution_count": 4,
   "id": "189ed011",
   "metadata": {},
   "outputs": [
    {
     "name": "stdout",
     "output_type": "stream",
     "text": [
      "2 is a prime number\n",
      "3 is a prime number\n",
      "4 is a prime number\n",
      "5 is a prime number\n",
      "6 is a prime number\n",
      "7 is a prime number\n",
      "8 is a prime number\n",
      "9 is a prime number\n",
      "10 is a prime number\n",
      "11 is a prime number\n",
      "12 is a prime number\n",
      "13 is a prime number\n",
      "14 is a prime number\n",
      "15 is a prime number\n",
      "16 is a prime number\n",
      "17 is a prime number\n",
      "18 is a prime number\n",
      "19 is a prime number\n",
      "20 is a prime number\n",
      "21 is a prime number\n",
      "22 is a prime number\n",
      "23 is a prime number\n",
      "24 is a prime number\n",
      "25 is a prime number\n",
      "26 is a prime number\n",
      "27 is a prime number\n",
      "28 is a prime number\n",
      "29 is a prime number\n",
      "30 is a prime number\n",
      "31 is a prime number\n",
      "32 is a prime number\n",
      "33 is a prime number\n",
      "34 is a prime number\n",
      "35 is a prime number\n",
      "36 is a prime number\n",
      "37 is a prime number\n",
      "38 is a prime number\n",
      "39 is a prime number\n",
      "40 is a prime number\n",
      "41 is a prime number\n",
      "42 is a prime number\n",
      "43 is a prime number\n",
      "44 is a prime number\n",
      "45 is a prime number\n",
      "46 is a prime number\n",
      "47 is a prime number\n",
      "48 is a prime number\n",
      "49 is a prime number\n",
      "Bye Bye!!\n"
     ]
    }
   ],
   "source": [
    "#Use of nested loops to find the prime numbers between 2 to 50\n",
    "num = 2\n",
    "for i in range(2, 50):\n",
    "    j= 2\n",
    "    while ( j <= (i/2)):\n",
    "        if (1 % j == 0): #factor found\n",
    "            break #break out of while loop\n",
    "        j += 1\n",
    "    if ( j > i/j) : #no factor found\n",
    "        print (i, \"is a prime number\")\n",
    "print (\"Bye Bye!!\")"
   ]
  },
  {
   "cell_type": "markdown",
   "id": "f56ee1ef",
   "metadata": {},
   "source": [
    "# Exercise III"
   ]
  },
  {
   "cell_type": "code",
   "execution_count": 5,
   "id": "32a48cba",
   "metadata": {},
   "outputs": [
    {
     "name": "stdout",
     "output_type": "stream",
     "text": [
      "Enter a number: 10\n",
      "factorial of 10 is 3628800\n"
     ]
    }
   ],
   "source": [
    "#The following program uses a 'for' loop nested inside an 'if..else'\n",
    "#block to calculate the factorial of a given number\n",
    "num = int(input(\"Enter a number: \"))\n",
    "fact = 1\n",
    "# check if the number is negative, positive or zero\n",
    "if num < 0:\n",
    "    print(\"Sorry, factorial does not exist for negative numbers\")\n",
    "elif num == 0:\n",
    "    print(\"The factorial of 0 is 1\")\n",
    "else:\n",
    "    for i in range(1, num + 1):\n",
    "        fact = fact * i\n",
    "    print(\"factorial of\", num, \"is\", fact)"
   ]
  },
  {
   "cell_type": "markdown",
   "id": "2ed332b0",
   "metadata": {},
   "source": [
    "# Exercise IV"
   ]
  },
  {
   "cell_type": "code",
   "execution_count": 8,
   "id": "eaa62eb8",
   "metadata": {},
   "outputs": [
    {
     "name": "stdout",
     "output_type": "stream",
     "text": [
      "Enter the number to be checked: 10\n",
      "10 is not a prime number\n"
     ]
    }
   ],
   "source": [
    "#Write a Python program to check if a given number is prime or not.\n",
    "num = int(input(\"Enter the number to be checked: \"))\n",
    "flag = 0 #presume num is a prime number\n",
    "if num > 1 :\n",
    "    for i in range(2, int(num / 2)):\n",
    "        if (num % i == 0):\n",
    "            flag = 1 #num is not a prime number\n",
    "            break # no need to check any further\n",
    "    if flag == 1:\n",
    "        print(num , \"is not a prime number\")\n",
    "    else:\n",
    "            print(num , \"is a prime number\")\n",
    "else :\n",
    "    print(\"Entered number is <= 1, execute again\")"
   ]
  },
  {
   "cell_type": "code",
   "execution_count": null,
   "id": "4c8d5528",
   "metadata": {},
   "outputs": [],
   "source": []
  }
 ],
 "metadata": {
  "kernelspec": {
   "display_name": "Python 3 (ipykernel)",
   "language": "python",
   "name": "python3"
  },
  "language_info": {
   "codemirror_mode": {
    "name": "ipython",
    "version": 3
   },
   "file_extension": ".py",
   "mimetype": "text/x-python",
   "name": "python",
   "nbconvert_exporter": "python",
   "pygments_lexer": "ipython3",
   "version": "3.9.7"
  }
 },
 "nbformat": 4,
 "nbformat_minor": 5
}
